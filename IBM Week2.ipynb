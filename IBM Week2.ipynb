{
 "cells": [
  {
   "cell_type": "markdown",
   "id": "64b46f67",
   "metadata": {},
   "source": [
    "<H1>My Jupyter Notebook on IBM Watson Studio"
   ]
  },
  {
   "cell_type": "markdown",
   "id": "94569f57",
   "metadata": {},
   "source": [
    "<B>Karan Chetri</B>\n",
    "<P>I am a Senior Analyst in Capgemini,India</P>"
   ]
  },
  {
   "cell_type": "markdown",
   "id": "d4d57437",
   "metadata": {},
   "source": [
    "<I>I am interested in Data Science because i love exploring the insights from data to make better decisions</I>"
   ]
  },
  {
   "cell_type": "markdown",
   "id": "9b900fbb",
   "metadata": {},
   "source": [
    "<H3>I am writing a code to print all the odd numbers between 0 and 100"
   ]
  },
  {
   "cell_type": "code",
   "execution_count": 1,
   "id": "f7b2e160",
   "metadata": {},
   "outputs": [
    {
     "name": "stdout",
     "output_type": "stream",
     "text": [
      "1 3 5 7 9 11 13 15 17 19 21 23 25 27 29 31 33 35 37 39 41 43 45 47 49 51 53 55 57 59 61 63 65 67 69 71 73 75 77 79 81 83 85 87 89 91 93 95 97 99 "
     ]
    }
   ],
   "source": [
    "start,end = 0,100\n",
    "for num in range(start,end+1):\n",
    "    if num%2!=0:\n",
    "        print(num,end=\" \")"
   ]
  },
  {
   "cell_type": "markdown",
   "id": "a7603666",
   "metadata": {},
   "source": [
    "<hr>\n",
    "<p>You miss 100% of the shots you don't take.\n",
    "<ul>\n",
    "  <li>Wayne Gretzky</li>\n",
    "  <li>Micheal Scott</li>\n",
    "</ul>\n",
    "<hr>\n",
    "<p><a href=\"https://github.com/karanchetri789\">Check out my GitHub</a>"
   ]
  },
  {
   "cell_type": "code",
   "execution_count": null,
   "id": "b2dab784",
   "metadata": {},
   "outputs": [],
   "source": []
  }
 ],
 "metadata": {
  "kernelspec": {
   "display_name": "Python 3 (ipykernel)",
   "language": "python",
   "name": "python3"
  },
  "language_info": {
   "codemirror_mode": {
    "name": "ipython",
    "version": 3
   },
   "file_extension": ".py",
   "mimetype": "text/x-python",
   "name": "python",
   "nbconvert_exporter": "python",
   "pygments_lexer": "ipython3",
   "version": "3.9.7"
  }
 },
 "nbformat": 4,
 "nbformat_minor": 5
}
